{
 "metadata": {
  "name": "",
  "signature": "sha256:a63b3604d215932d8f3433815ebc9b9d081e92d3b06cee9b2904bf7521774614"
 },
 "nbformat": 3,
 "nbformat_minor": 0,
 "worksheets": [
  {
   "cells": [
    {
     "cell_type": "code",
     "collapsed": false,
     "input": [
      "%matplotlib inline\n",
      "import numpy as np\n",
      "import matplotlib.pyplot as plt\n",
      "from matplotlib import rcParams\n",
      "rcParams['font.family'] = 'serif'\n",
      "rcParams['font.size'] = 16"
     ],
     "language": "python",
     "metadata": {},
     "outputs": [],
     "prompt_number": 33
    },
    {
     "cell_type": "code",
     "collapsed": false,
     "input": [
      "#Euler variables are [a1,a2,a2]=(rho,u,p)\n",
      "#Conservation variables are [u1,u2,u3]=[rho,rho*u,rho*e_t]\n",
      "\n",
      "Gamma=1.4\n",
      "Gm1=Gamma-1.0\n",
      "\n",
      "def EulerToConsU1(a1,a2,a3):\n",
      "    return a1   #u1=rho\n",
      "\n",
      "def EulerToConsU2(a1,a2,a3):\n",
      "    return a1*a2   #u2=rho*u\n",
      "\n",
      "def EulerToConsU3(a1,a2,a3):\n",
      "    return a3/Gm1 + a1*a2**2/2.0   #u3=rho*e_T=p/(Gamma-1) + rho*U^2/2\n",
      "\n",
      "def ConsToRho(u1,u2,u3):\n",
      "    return u1     #rho=u1\n",
      "\n",
      "def ConsToU(u1,u2,u3):\n",
      "    return u2/u1    #U=u2/u1=(rho*U)/rho\n",
      "\n",
      "def ConsToP(u1,u2,u3):\n",
      "    return Gm1*(u3 - u2**2/(2.0*u1))"
     ],
     "language": "python",
     "metadata": {},
     "outputs": [],
     "prompt_number": 104
    },
    {
     "cell_type": "code",
     "collapsed": false,
     "input": [
      "#Functions for computing components of flux [f1,f2,f3] from \n",
      "#conservation variables [u1,u2,u3]\n",
      "\n",
      "def ComputeF1(u1,u2,u3):\n",
      "    return u2   #f1=rho*u = u2\n",
      "\n",
      "def ComputeF2(u1,u2,u3):\n",
      "    return u2**2/u1 + Gm1*(u3 - u2**2/(2.0*u1))\n",
      "\n",
      "def ComputeF3(u1,u2,u3):\n",
      "    return (u3 + Gm1*(u3 - u2**2/(2.0*u1)))*(u2/u1)\n"
     ],
     "language": "python",
     "metadata": {},
     "outputs": [],
     "prompt_number": 35
    },
    {
     "cell_type": "code",
     "collapsed": false,
     "input": [
      "#Richtmyer Integration scheme. \n",
      "\n",
      "#We separate the predictor and corrector, since each can be\n",
      "#applied individually to component pairs (u1,f1), (u2,f2), (u3,f3)\n",
      "\n",
      "#The update is for only a single half-time-step\n",
      "\n",
      "def RMPredictor(u,f,dt,dx,nx):\n",
      "    \"\"\"Richtmyer predictor.  \n",
      "    \n",
      "    Parameters:\n",
      "    -----------\n",
      "    u : array 0..nx-1\n",
      "        component of [u1,u2,u3] at time n\n",
      "    f : array 0..nx-1\n",
      "        corresponding component of [f1,f2,f3] at time n\n",
      "        \n",
      "    Returns:\n",
      "    --------\n",
      "    uhalf : array 0..nx-2\n",
      "        uhalf[i] at time n+1/2 and grid i+1/2\n",
      "    \"\"\"\n",
      "    K=dt/dx\n",
      "    uhalf=u.copy()\n",
      "    \n",
      "    uhalf[:-1]=0.5*(u[1:] + u[:-1] - K*(f[1:]-f[:-1]))\n",
      "    \n",
      "    return uhalf\n"
     ],
     "language": "python",
     "metadata": {},
     "outputs": [],
     "prompt_number": 36
    },
    {
     "cell_type": "code",
     "collapsed": false,
     "input": [
      "#The update is for only a single half-time-step\n",
      "\n",
      "def RMCorrector(u,fh,dt,dx,nx):\n",
      "    \"\"\"Richtmyer corrector: \n",
      "    \n",
      "    Parameters:\n",
      "    -----------\n",
      "    u  : array 0..nx-1\n",
      "        component of [u1,u2,u3] at time n\n",
      "    fh : array 0..nx-2\n",
      "        corresponding component of [f1,f2,f3] at time n+1/2\n",
      "    \n",
      "    fh[i] apply to half grid x[i+1/2]\n",
      "        \n",
      "    Returns:\n",
      "    --------\n",
      "    un : array 1..nx-2 (end points excluded)\n",
      "        un[i] at time n and grid i\n",
      "    \"\"\"\n",
      "    K=dt/dx\n",
      "    un=u.copy()\n",
      "    \n",
      "    un[1:-1]=u[1:-1] - K*(fh[1:-1]-fh[:-2])\n",
      "    \n",
      "    return un\n"
     ],
     "language": "python",
     "metadata": {},
     "outputs": [],
     "prompt_number": 72
    },
    {
     "cell_type": "code",
     "collapsed": false,
     "input": [
      "#define routines to set up initial conditions\n",
      "\n",
      "def InitRho(AL,AR,nx):\n",
      "    i_mid=(nx-1)/2.0\n",
      "    a1=AL[0]*np.ones(nx)\n",
      "    a1[i_mid:]=AR[0]    \n",
      "    return a1\n",
      "\n",
      "def InitU(AL,AR,nx):\n",
      "    i_mid=(nx-1)/2.0\n",
      "    a2=AL[1]*np.ones(nx)\n",
      "    a2[i_mid:]=AR[1]    \n",
      "    return a2\n",
      "\n",
      "def InitP(AL,AR,nx):\n",
      "    i_mid=(nx-1)/2.0\n",
      "    a3=AL[2]*np.ones(nx)\n",
      "    a3[i_mid:]=AR[2]    \n",
      "    return a3"
     ],
     "language": "python",
     "metadata": {},
     "outputs": [],
     "prompt_number": 38
    },
    {
     "cell_type": "code",
     "collapsed": false,
     "input": [
      "#initial conditions (mks units)\n",
      "AL=[1.0, 0.0, 100000.0]\n",
      "AR=[0.125,0.0,10000.0]\n",
      "\n",
      "nx=81  #number of grid points\n",
      "dx=20.0/(nx-1)\n",
      "dt=0.0002  #time step\n",
      "tf=0.01 #stopping time\n",
      "\n",
      "nt=int(tf/dt+.5) #number of time steps\n",
      "\n",
      "x=np.linspace(-10,10,nx)\n",
      "a1=InitRho(AL,AR,nx)\n",
      "a2=InitU(AL,AR,nx)\n",
      "a3=InitP(AL,AR,nx)"
     ],
     "language": "python",
     "metadata": {},
     "outputs": [],
     "prompt_number": 69
    },
    {
     "cell_type": "code",
     "collapsed": false,
     "input": [
      "plt.plot(x, a3, color='#003366', ls='-', lw=3)\n",
      "plt.ylabel('A')\n",
      "plt.xlabel('Distance')\n",
      "#plt.ylim(-0.5,11.);\n",
      "plt.grid(True,lw=2)"
     ],
     "language": "python",
     "metadata": {},
     "outputs": [
      {
       "metadata": {},
       "output_type": "display_data",
       "png": "[encoded data removed]",
       "text": [
        "<matplotlib.figure.Figure at 0xacce550>"
       ]
      }
     ],
     "prompt_number": 55
    },
    {
     "cell_type": "code",
     "collapsed": false,
     "input": [
      "dx,nt"
     ],
     "language": "python",
     "metadata": {},
     "outputs": [
      {
       "metadata": {},
       "output_type": "pyout",
       "prompt_number": 70,
       "text": [
        "(0.25, 50)"
       ]
      }
     ],
     "prompt_number": 70
    },
    {
     "cell_type": "code",
     "collapsed": false,
     "input": [
      "#compute initial state variables\n",
      "u1=EulerToConsU1(a1,a2,a3)\n",
      "u2=EulerToConsU2(a1,a2,a3)\n",
      "u3=EulerToConsU3(a1,a2,a3)\n"
     ],
     "language": "python",
     "metadata": {},
     "outputs": [],
     "prompt_number": 57
    },
    {
     "cell_type": "code",
     "collapsed": false,
     "input": [
      "plt.plot(x, u3, color='#003366', ls='-', lw=3)\n",
      "plt.ylabel('u')\n",
      "plt.xlabel('Distance')\n",
      "#plt.ylim(-0.5,11.);\n",
      "plt.grid(True,lw=2)"
     ],
     "language": "python",
     "metadata": {},
     "outputs": [
      {
       "metadata": {},
       "output_type": "display_data",
       "png": "[encoded data removed]",
       "text": [
        "<matplotlib.figure.Figure at 0xab95b38>"
       ]
      }
     ],
     "prompt_number": 58
    },
    {
     "cell_type": "code",
     "collapsed": false,
     "input": [
      "print AL[2]/Gm1,AR[2]/Gm1"
     ],
     "language": "python",
     "metadata": {},
     "outputs": [
      {
       "output_type": "stream",
       "stream": "stdout",
       "text": [
        "250000.0 25000.0\n"
       ]
      }
     ],
     "prompt_number": 63
    },
    {
     "cell_type": "code",
     "collapsed": false,
     "input": [
      "def RMShock(a1,a2,a3,nx,nt,dx,dt):\n",
      "    \"\"\"Use Richtmyer scheme to solve shock tube\n",
      "    \n",
      "    Parameters:\n",
      "    -----------\n",
      "    a1,a2,a3 : arrays 0..nx-1\n",
      "        initial components of vector [rho,u,p]\n",
      "    nx,nt : ints\n",
      "        number of grids, time-steps\n",
      "    dx,dt : floats\n",
      "        grid space, time-step size\n",
      "        \n",
      "    Result:\n",
      "    A1,A2,A3 : arrays nt+1 by nx\n",
      "        AX[n,i] X component of Euler vector at (x,t)=(i*dx,n*dt)\n",
      "    \"\"\"\n",
      "    \n",
      "    #allocate nt+1 by nx arrays for solution\n",
      "    A1=np.zeros((nt+1,nx))      \n",
      "    A2=np.zeros((nt+1,nx))      \n",
      "    A3=np.zeros((nt+1,nx))\n",
      "    \n",
      "    #convert [a1,a2,a3] to conservation quantities [u1,u2,u3]\n",
      "    u1=EulerToConsU1(a1,a2,a3)\n",
      "    u2=EulerToConsU2(a1,a2,a3) \n",
      "    u3=EulerToConsU3(a1,a2,a3)    \n",
      "    \n",
      "    #working variables\n",
      "    uh1=np.zeros(nx)  #[u1,u2,u3] at n+1/2\n",
      "    uh2=np.zeros(nx)  \n",
      "    uh3=np.zeros(nx)\n",
      "    \n",
      "    un1=np.zeros(nx)  #[u1,u2,u3] at n+1\n",
      "    un2=np.zeros(nx)  \n",
      "    un3=np.zeros(nx)\n",
      "    \n",
      "    f1=np.zeros(nx)  #[f1,f2,f3] at n or n+1/2\n",
      "    f2=np.zeros(nx)  \n",
      "    f3=np.zeros(nx)  \n",
      "    \n",
      "    #record values for t=0\n",
      "    A1[0,:]=a1\n",
      "    A2[0,:]=a2\n",
      "    A3[0,:]=a3\n",
      "    \n",
      "    Time=0.0\n",
      "    \n",
      "    #loop invariant: at start of loop, [u1,u2,u3] are values\n",
      "    #at time n\n",
      "    \n",
      "    #march time forward nt steps...\n",
      "    for n in range(0,nt):\n",
      "        #compute Flux components for time n\n",
      "        f1=ComputeF1(u1,u2,u3)\n",
      "        f2=ComputeF2(u1,u2,u3)\n",
      "        f3=ComputeF3(u1,u2,u3)\n",
      "\n",
      "        #apply Richtmyer predictor \n",
      "        #to get [u1,u2,u3] at time n+1/2...\n",
      "        uh1=RMPredictor(u1,f1,dt,dx,nx)\n",
      "        uh2=RMPredictor(u2,f2,dt,dx,nx)\n",
      "        uh3=RMPredictor(u3,f3,dt,dx,nx)\n",
      "                        \n",
      "        #compute Flux at time n+1/2\n",
      "        f1=ComputeF1(uh1,uh2,uh3)        \n",
      "        f2=ComputeF2(uh1,uh2,uh3)        \n",
      "        f3=ComputeF3(uh1,uh2,uh3)        \n",
      "     \n",
      "        #apply Richtmyer corrector\n",
      "        #to get [u1,u2,u3] at n+1..\n",
      "        un1=RMCorrector(u1,f1,dt,dx,nx)\n",
      "        un2=RMCorrector(u2,f2,dt,dx,nx)\n",
      "        un3=RMCorrector(u3,f3,dt,dx,nx)\n",
      "            #Note RMCorrector uses [u1,u2,u3] at n, not n+1/2!\n",
      "        \n",
      "        #update [u1,u2,u3] to values at time n+1\n",
      "        u1=un1.copy()\n",
      "        u2=un2.copy()\n",
      "        u3=un3.copy()\n",
      "        \n",
      "        #convert [u1,u2,u3] to [rho,u,p] and store for time n+1...\n",
      "        A1[n+1,:]=ConsToRho(u1,u2,u3)\n",
      "        A2[n+1,:]=ConsToU(u1,u2,u3)\n",
      "        A3[n+1,:]=ConsToP(u1,u2,u3)\n",
      "        \n",
      "        #update time\n",
      "        Time=Time + dt      \n",
      "        \n",
      "    print \"final time=\",Time\n",
      "    return [A1,A2,A3]\n"
     ],
     "language": "python",
     "metadata": {},
     "outputs": [],
     "prompt_number": 91
    },
    {
     "cell_type": "code",
     "collapsed": false,
     "input": [
      "#Solve shock tube\n",
      "[A1,A2,A3]=RMShock(a1,a2,a3,nx,nt,dx,dt)"
     ],
     "language": "python",
     "metadata": {},
     "outputs": [
      {
       "output_type": "stream",
       "stream": "stdout",
       "text": [
        "final time= 0.01\n"
       ]
      }
     ],
     "prompt_number": 92
    },
    {
     "cell_type": "code",
     "collapsed": false,
     "input": [
      "plt.plot(x, A1[nt], color='#003366', ls='-', lw=3)\n",
      "plt.ylabel('u')\n",
      "plt.xlabel('Distance')\n",
      "plt.grid(True,lw=2)"
     ],
     "language": "python",
     "metadata": {},
     "outputs": [
      {
       "metadata": {},
       "output_type": "display_data",
       "png": "[encoded data removed]",
       "text": [
        "<matplotlib.figure.Figure at 0xab11da0>"
       ]
      }
     ],
     "prompt_number": 98
    },
    {
     "cell_type": "code",
     "collapsed": false,
     "input": [
      "print nt"
     ],
     "language": "python",
     "metadata": {},
     "outputs": [
      {
       "output_type": "stream",
       "stream": "stdout",
       "text": [
        "50\n"
       ]
      }
     ],
     "prompt_number": 79
    },
    {
     "cell_type": "code",
     "collapsed": false,
     "input": [
      "A1.shape"
     ],
     "language": "python",
     "metadata": {},
     "outputs": [
      {
       "metadata": {},
       "output_type": "pyout",
       "prompt_number": 84,
       "text": [
        "(51L, 81L)"
       ]
      }
     ],
     "prompt_number": 84
    },
    {
     "cell_type": "code",
     "collapsed": false,
     "input": [
      "x[50]"
     ],
     "language": "python",
     "metadata": {},
     "outputs": [
      {
       "metadata": {},
       "output_type": "pyout",
       "prompt_number": 99,
       "text": [
        "2.5"
       ]
      }
     ],
     "prompt_number": 99
    },
    {
     "cell_type": "code",
     "collapsed": false,
     "input": [
      "ix=50\n",
      "print \"u=%.2f p=%.2f rho=%.2f\\n\" % (A2[nt,ix],A3[nt,ix],A1[nt,ix])"
     ],
     "language": "python",
     "metadata": {},
     "outputs": [
      {
       "output_type": "stream",
       "stream": "stdout",
       "text": [
        "u=292.61 p=30250.89 rho=0.37\n",
        "\n"
       ]
      }
     ],
     "prompt_number": 103
    },
    {
     "cell_type": "code",
     "collapsed": false,
     "input": [],
     "language": "python",
     "metadata": {},
     "outputs": []
    }
   ],
   "metadata": {}
  }
 ]
}